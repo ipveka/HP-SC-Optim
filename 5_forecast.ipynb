{
 "cells": [
  {
   "cell_type": "markdown",
   "id": "094083b4-470c-401d-a03a-5a0a52f9a501",
   "metadata": {},
   "source": [
    "# Forecast"
   ]
  },
  {
   "cell_type": "code",
   "execution_count": 34,
   "id": "e0defaf3-697e-4a36-9b8a-66ed23751a66",
   "metadata": {
    "tags": []
   },
   "outputs": [],
   "source": [
    "# importing all necessary libraries\n",
    "\n",
    "# pip install -r requirements.txt\n",
    "\n",
    "from statsmodels.tsa.arima_model import ARIMA\n",
    "from statsmodels.tsa.api import ExponentialSmoothing, SimpleExpSmoothing, Holt\n",
    "from statsmodels.graphics.tsaplots import plot_acf, plot_pacf \n",
    "from sklearn.model_selection import train_test_split, GridSearchCV\n",
    "from sklearn.metrics import mean_squared_error, r2_score\n",
    "import statsmodels.api as sm\n",
    "import matplotlib.pyplot as plt\n",
    "from statsmodels.tsa.stattools import adfuller \n",
    "from statsmodels.tsa.statespace.sarimax import SARIMAX \n",
    "from datetime import datetime, timedelta\n",
    "import statsmodels.api as sm\n",
    "import gc\n",
    "from pylab import rcParams\n",
    "import os\n",
    "import matplotlib.pyplot as plt\n",
    "import matplotlib.dates as mdates\n",
    "import seaborn as sns\n",
    "import gc\n",
    "import lightgbm as lgb\n",
    "import numpy as np\n",
    "import pandas as pd\n",
    "import matplotlib.dates as mdates\n",
    "import lightgbm as lgb\n",
    "import calendar\n",
    "\n",
    "from sklearn.preprocessing import LabelEncoder\n",
    "from sklearn.preprocessing import MinMaxScaler\n",
    "from xgboost import XGBRegressor\n",
    "import multiprocessing as mp\n",
    "import warnings\n",
    "warnings.filterwarnings(\"ignore\")\n",
    "\n",
    "%matplotlib inline"
   ]
  },
  {
   "cell_type": "markdown",
   "id": "7ba21afb-e78f-4d0b-8742-6889f0ac276f",
   "metadata": {},
   "source": [
    "# Load data"
   ]
  },
  {
   "cell_type": "code",
   "execution_count": 35,
   "id": "ec56c37a-3044-4d7c-9e6a-2a6b70639954",
   "metadata": {
    "tags": []
   },
   "outputs": [],
   "source": [
    "# Reading datasets\n",
    "\n",
    "train_model = pd.read_csv('input/train_ready.csv')\n",
    "test_model = pd.read_csv('input/test_ready.csv')"
   ]
  },
  {
   "cell_type": "markdown",
   "id": "ee8ad3e9-717d-4ecc-943d-3b63d1088137",
   "metadata": {},
   "source": [
    "# Run model"
   ]
  },
  {
   "cell_type": "code",
   "execution_count": 36,
   "id": "8bf1fe81-fc30-4eb4-833c-1e071d885d15",
   "metadata": {
    "tags": []
   },
   "outputs": [],
   "source": [
    "# Train an XGBoost model\n",
    "\n",
    "# Set Grid\n",
    "\n",
    "param_grid = {\n",
    "    'n_estimators': [300, 500, 700],\n",
    "    'max_depth': [3, 5, 7],\n",
    "    'learning_rate': [0.1, 0.01, 0.001]\n",
    "}\n",
    "\n",
    "# Train an XGBoost model\n",
    "    \n",
    "xgb_model = XGBRegressor()\n",
    "\n",
    "grid_search = GridSearchCV(estimator = xgb_model, param_grid = param_grid, cv=3, scoring = 'neg_mean_squared_error')\n",
    "    \n",
    "grid_search.fit(train_model.drop(['id', 'inventory_units'], axis=1), train_model['inventory_units'])\n",
    "\n",
    "best_xgb_model = grid_search.best_estimator_"
   ]
  },
  {
   "cell_type": "code",
   "execution_count": 37,
   "id": "bfd76f21-5069-45ff-a21a-80e105d3c964",
   "metadata": {
    "tags": []
   },
   "outputs": [],
   "source": [
    "# Apply predictions\n",
    "    \n",
    "product_predictions = best_xgb_model.predict(test_model.drop(['id'], axis=1))\n",
    "\n",
    "test_model['predictions'] = product_predictions"
   ]
  },
  {
   "cell_type": "markdown",
   "id": "da944e5d-27bb-48aa-bbf7-81463cbc79c0",
   "metadata": {},
   "source": [
    "# Feature importances"
   ]
  },
  {
   "cell_type": "code",
   "execution_count": 38,
   "id": "bec87f95-26ef-46e7-8c66-103b5e3cc4ec",
   "metadata": {},
   "outputs": [
    {
     "data": {
      "text/html": [
       "<div>\n",
       "<style scoped>\n",
       "    .dataframe tbody tr th:only-of-type {\n",
       "        vertical-align: middle;\n",
       "    }\n",
       "\n",
       "    .dataframe tbody tr th {\n",
       "        vertical-align: top;\n",
       "    }\n",
       "\n",
       "    .dataframe thead th {\n",
       "        text-align: right;\n",
       "    }\n",
       "</style>\n",
       "<table border=\"1\" class=\"dataframe\">\n",
       "  <thead>\n",
       "    <tr style=\"text-align: right;\">\n",
       "      <th></th>\n",
       "      <th>importance</th>\n",
       "    </tr>\n",
       "    <tr>\n",
       "      <th>predictor_group</th>\n",
       "      <th></th>\n",
       "    </tr>\n",
       "  </thead>\n",
       "  <tbody>\n",
       "    <tr>\n",
       "      <th>product</th>\n",
       "      <td>0.336787</td>\n",
       "    </tr>\n",
       "    <tr>\n",
       "      <th>inventory</th>\n",
       "      <td>0.305116</td>\n",
       "    </tr>\n",
       "    <tr>\n",
       "      <th>reporterhq</th>\n",
       "      <td>0.125128</td>\n",
       "    </tr>\n",
       "    <tr>\n",
       "      <th>month</th>\n",
       "      <td>0.065707</td>\n",
       "    </tr>\n",
       "    <tr>\n",
       "      <th>segment</th>\n",
       "      <td>0.042203</td>\n",
       "    </tr>\n",
       "    <tr>\n",
       "      <th>year</th>\n",
       "      <td>0.037709</td>\n",
       "    </tr>\n",
       "    <tr>\n",
       "      <th>prod</th>\n",
       "      <td>0.032479</td>\n",
       "    </tr>\n",
       "    <tr>\n",
       "      <th>sales</th>\n",
       "      <td>0.027595</td>\n",
       "    </tr>\n",
       "    <tr>\n",
       "      <th>season</th>\n",
       "      <td>0.022646</td>\n",
       "    </tr>\n",
       "    <tr>\n",
       "      <th>week</th>\n",
       "      <td>0.004628</td>\n",
       "    </tr>\n",
       "  </tbody>\n",
       "</table>\n",
       "</div>"
      ],
      "text/plain": [
       "                 importance\n",
       "predictor_group            \n",
       "product            0.336787\n",
       "inventory          0.305116\n",
       "reporterhq         0.125128\n",
       "month              0.065707\n",
       "segment            0.042203\n",
       "year               0.037709\n",
       "prod               0.032479\n",
       "sales              0.027595\n",
       "season             0.022646\n",
       "week               0.004628"
      ]
     },
     "execution_count": 38,
     "metadata": {},
     "output_type": "execute_result"
    }
   ],
   "source": [
    "imps = pd.Series(best_xgb_model.feature_importances_, index=train_model.drop(['id', 'inventory_units'], axis=1).columns)\n",
    "imps = imps.reset_index()\n",
    "imps.columns = ['predictor', 'importance']\n",
    "imps['predictor_group'] = imps['predictor'].str.split('_').str[0]\n",
    "imps = imps.groupby('predictor_group').sum().sort_values(by = \"importance\", ascending = False)\n",
    "imps"
   ]
  },
  {
   "cell_type": "markdown",
   "id": "513c377c-dbb9-4559-b17a-e28fe8d67dfe",
   "metadata": {},
   "source": [
    "# Write output"
   ]
  },
  {
   "cell_type": "code",
   "execution_count": 39,
   "id": "908bab61-bbf5-4e32-97f7-9eb588cac576",
   "metadata": {},
   "outputs": [],
   "source": [
    "# Aggregate at id level\n",
    "\n",
    "fcst_data_output = test_model.groupby(['id']).sum().reset_index()\n",
    "\n",
    "fcst_data_output.to_csv('output/fcst_results.csv', index = False)\n",
    "\n",
    "# Output"
   ]
  },
  {
   "cell_type": "code",
   "execution_count": 40,
   "id": "060e73f9-a12d-4dfa-b1f5-ed75e35ba62a",
   "metadata": {},
   "outputs": [
    {
     "data": {
      "text/html": [
       "<div>\n",
       "<style scoped>\n",
       "    .dataframe tbody tr th:only-of-type {\n",
       "        vertical-align: middle;\n",
       "    }\n",
       "\n",
       "    .dataframe tbody tr th {\n",
       "        vertical-align: top;\n",
       "    }\n",
       "\n",
       "    .dataframe thead th {\n",
       "        text-align: right;\n",
       "    }\n",
       "</style>\n",
       "<table border=\"1\" class=\"dataframe\">\n",
       "  <thead>\n",
       "    <tr style=\"text-align: right;\">\n",
       "      <th></th>\n",
       "      <th>id</th>\n",
       "      <th>inventory_units</th>\n",
       "    </tr>\n",
       "  </thead>\n",
       "  <tbody>\n",
       "    <tr>\n",
       "      <th>0</th>\n",
       "      <td>202319-105609</td>\n",
       "      <td>139.734741</td>\n",
       "    </tr>\n",
       "    <tr>\n",
       "      <th>1</th>\n",
       "      <td>202319-107583</td>\n",
       "      <td>423.016968</td>\n",
       "    </tr>\n",
       "    <tr>\n",
       "      <th>2</th>\n",
       "      <td>202319-10857</td>\n",
       "      <td>137.472198</td>\n",
       "    </tr>\n",
       "    <tr>\n",
       "      <th>3</th>\n",
       "      <td>202319-109557</td>\n",
       "      <td>137.988098</td>\n",
       "    </tr>\n",
       "    <tr>\n",
       "      <th>4</th>\n",
       "      <td>202319-112518</td>\n",
       "      <td>237.911804</td>\n",
       "    </tr>\n",
       "    <tr>\n",
       "      <th>...</th>\n",
       "      <td>...</td>\n",
       "      <td>...</td>\n",
       "    </tr>\n",
       "    <tr>\n",
       "      <th>1295</th>\n",
       "      <td>202331-92778</td>\n",
       "      <td>151.974899</td>\n",
       "    </tr>\n",
       "    <tr>\n",
       "      <th>1296</th>\n",
       "      <td>202331-93765</td>\n",
       "      <td>137.198441</td>\n",
       "    </tr>\n",
       "    <tr>\n",
       "      <th>1297</th>\n",
       "      <td>202331-94752</td>\n",
       "      <td>191.429779</td>\n",
       "    </tr>\n",
       "    <tr>\n",
       "      <th>1298</th>\n",
       "      <td>202331-9870</td>\n",
       "      <td>124.454887</td>\n",
       "    </tr>\n",
       "    <tr>\n",
       "      <th>1299</th>\n",
       "      <td>202331-99687</td>\n",
       "      <td>218.864120</td>\n",
       "    </tr>\n",
       "  </tbody>\n",
       "</table>\n",
       "<p>1300 rows × 2 columns</p>\n",
       "</div>"
      ],
      "text/plain": [
       "                 id  inventory_units\n",
       "0     202319-105609       139.734741\n",
       "1     202319-107583       423.016968\n",
       "2      202319-10857       137.472198\n",
       "3     202319-109557       137.988098\n",
       "4     202319-112518       237.911804\n",
       "...             ...              ...\n",
       "1295   202331-92778       151.974899\n",
       "1296   202331-93765       137.198441\n",
       "1297   202331-94752       191.429779\n",
       "1298    202331-9870       124.454887\n",
       "1299   202331-99687       218.864120\n",
       "\n",
       "[1300 rows x 2 columns]"
      ]
     },
     "execution_count": 40,
     "metadata": {},
     "output_type": "execute_result"
    }
   ],
   "source": [
    "# Submission\n",
    "\n",
    "submission = fcst_data_output[['id', 'predictions']]\n",
    "\n",
    "submission.columns = ['id', 'inventory_units']\n",
    "\n",
    "submission.to_csv('submission/kaggle_submission.csv', index = False)\n",
    "\n",
    "submission"
   ]
  }
 ],
 "metadata": {
  "kernelspec": {
   "display_name": "Python 3 (ipykernel)",
   "language": "python",
   "name": "python3"
  },
  "language_info": {
   "codemirror_mode": {
    "name": "ipython",
    "version": 3
   },
   "file_extension": ".py",
   "mimetype": "text/x-python",
   "name": "python",
   "nbconvert_exporter": "python",
   "pygments_lexer": "ipython3",
   "version": "3.9.13"
  }
 },
 "nbformat": 4,
 "nbformat_minor": 5
}
